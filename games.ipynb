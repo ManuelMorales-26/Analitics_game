{
 "cells": [
  {
   "cell_type": "markdown",
   "metadata": {},
   "source": [
    "## Importacion de librerias"
   ]
  },
  {
   "cell_type": "code",
   "execution_count": 108,
   "metadata": {},
   "outputs": [],
   "source": [
    "import pandas as pd\n",
    "import numpy as np\n",
    "import matplotlib.pyplot as plt"
   ]
  },
  {
   "cell_type": "markdown",
   "metadata": {},
   "source": [
    "### Exploramos el df"
   ]
  },
  {
   "cell_type": "code",
   "execution_count": 109,
   "metadata": {},
   "outputs": [
    {
     "name": "stdout",
     "output_type": "stream",
     "text": [
      "<class 'pandas.core.frame.DataFrame'>\n",
      "RangeIndex: 16715 entries, 0 to 16714\n",
      "Data columns (total 11 columns):\n",
      " #   Column           Non-Null Count  Dtype  \n",
      "---  ------           --------------  -----  \n",
      " 0   Name             16713 non-null  object \n",
      " 1   Platform         16715 non-null  object \n",
      " 2   Year_of_Release  16446 non-null  float64\n",
      " 3   Genre            16713 non-null  object \n",
      " 4   NA_sales         16715 non-null  float64\n",
      " 5   EU_sales         16715 non-null  float64\n",
      " 6   JP_sales         16715 non-null  float64\n",
      " 7   Other_sales      16715 non-null  float64\n",
      " 8   Critic_Score     8137 non-null   float64\n",
      " 9   User_Score       10014 non-null  object \n",
      " 10  Rating           9949 non-null   object \n",
      "dtypes: float64(6), object(5)\n",
      "memory usage: 1.4+ MB\n"
     ]
    }
   ],
   "source": [
    "#Leemos el archivo games.csv\n",
    "df = pd.read_csv(\"games.csv\")\n",
    "\n",
    "#Exploramos información general del df\n",
    "df.info()"
   ]
  },
  {
   "cell_type": "markdown",
   "metadata": {},
   "source": [
    "## Preparacion de datos"
   ]
  },
  {
   "cell_type": "code",
   "execution_count": 110,
   "metadata": {},
   "outputs": [
    {
     "name": "stdout",
     "output_type": "stream",
     "text": [
      "0\n"
     ]
    }
   ],
   "source": [
    "#Verificamos si hay valores duplicados\n",
    "datos_duplicados = df.duplicated().sum()\n",
    "print(datos_duplicados)"
   ]
  },
  {
   "cell_type": "code",
   "execution_count": 111,
   "metadata": {},
   "outputs": [
    {
     "name": "stdout",
     "output_type": "stream",
     "text": [
      "Name                  2\n",
      "Platform              0\n",
      "Year_of_Release     269\n",
      "Genre                 2\n",
      "NA_sales              0\n",
      "EU_sales              0\n",
      "JP_sales              0\n",
      "Other_sales           0\n",
      "Critic_Score       8578\n",
      "User_Score         6701\n",
      "Rating             6766\n",
      "dtype: int64\n"
     ]
    }
   ],
   "source": [
    "#Verificamos si hay valores nulos\n",
    "datos_nulos = df.isna().sum()\n",
    "print(datos_nulos)"
   ]
  },
  {
   "cell_type": "code",
   "execution_count": 112,
   "metadata": {},
   "outputs": [
    {
     "name": "stdout",
     "output_type": "stream",
     "text": [
      "Index(['name', 'platform', 'year_of_release', 'genre', 'na_sales', 'eu_sales',\n",
      "       'jp_sales', 'other_sales', 'critic_score', 'user_score', 'rating'],\n",
      "      dtype='object')\n"
     ]
    }
   ],
   "source": [
    "#Convertimos las columnas en minuscula\n",
    "df.columns = df.columns.str.lower()\n",
    "print(df.columns)"
   ]
  },
  {
   "cell_type": "markdown",
   "metadata": {},
   "source": [
    "#### Trabajemos los valores de cada columna"
   ]
  },
  {
   "cell_type": "markdown",
   "metadata": {},
   "source": [
    "En la columna name"
   ]
  },
  {
   "cell_type": "code",
   "execution_count": 113,
   "metadata": {},
   "outputs": [],
   "source": [
    "#Rellenamos los valores ausentes\n",
    "df[\"name\"] = df[\"name\"].fillna(\"nombres_desconocidos\")"
   ]
  },
  {
   "cell_type": "markdown",
   "metadata": {},
   "source": [
    "En la columna year_of_release"
   ]
  },
  {
   "cell_type": "code",
   "execution_count": 114,
   "metadata": {},
   "outputs": [],
   "source": [
    "#revisamos valores ausentes y convertimos a valor entero\n",
    "df[\"year_of_release\"] = df[\"year_of_release\"].fillna(0).astype(int)"
   ]
  },
  {
   "cell_type": "markdown",
   "metadata": {},
   "source": [
    "En la columna genre"
   ]
  },
  {
   "cell_type": "code",
   "execution_count": 115,
   "metadata": {},
   "outputs": [
    {
     "name": "stdout",
     "output_type": "stream",
     "text": [
      "['Sports' 'Platform' 'Racing' 'Role-Playing' 'Puzzle' 'Misc' 'Shooter'\n",
      " 'Simulation' 'Action' 'Fighting' 'Adventure' 'Strategy'\n",
      " 'genero_desconocido']\n"
     ]
    },
    {
     "name": "stderr",
     "output_type": "stream",
     "text": [
      "/tmp/ipykernel_6345/87935869.py:2: FutureWarning: A value is trying to be set on a copy of a DataFrame or Series through chained assignment using an inplace method.\n",
      "The behavior will change in pandas 3.0. This inplace method will never work because the intermediate object on which we are setting values always behaves as a copy.\n",
      "\n",
      "For example, when doing 'df[col].method(value, inplace=True)', try using 'df.method({col: value}, inplace=True)' or df[col] = df[col].method(value) instead, to perform the operation inplace on the original object.\n",
      "\n",
      "\n",
      "  df[\"genre\"].fillna(\"genero_desconocido\",inplace=True)\n"
     ]
    }
   ],
   "source": [
    "\n",
    "#Rellenamos los valores ausentes\n",
    "df[\"genre\"].fillna(\"genero_desconocido\",inplace=True)\n",
    "\n",
    "#Visualizamos los valores unicos en genre para verificar el reemplazo\n",
    "print(df[\"genre\"].unique())"
   ]
  },
  {
   "cell_type": "markdown",
   "metadata": {},
   "source": [
    "Trabajemos en las columnas critic_score, user_score y rating"
   ]
  },
  {
   "cell_type": "code",
   "execution_count": 116,
   "metadata": {},
   "outputs": [
    {
     "name": "stderr",
     "output_type": "stream",
     "text": [
      "/tmp/ipykernel_6345/47039780.py:2: FutureWarning: A value is trying to be set on a copy of a DataFrame or Series through chained assignment using an inplace method.\n",
      "The behavior will change in pandas 3.0. This inplace method will never work because the intermediate object on which we are setting values always behaves as a copy.\n",
      "\n",
      "For example, when doing 'df[col].method(value, inplace=True)', try using 'df.method({col: value}, inplace=True)' or df[col] = df[col].method(value) instead, to perform the operation inplace on the original object.\n",
      "\n",
      "\n",
      "  df[\"critic_score\"].replace(0, np.nan, inplace=True)\n"
     ]
    }
   ],
   "source": [
    "#Rellenamos los valores ausentes en la columna critic_score\n",
    "df[\"critic_score\"].replace(0, np.nan, inplace=True)"
   ]
  },
  {
   "cell_type": "code",
   "execution_count": 117,
   "metadata": {},
   "outputs": [
    {
     "name": "stdout",
     "output_type": "stream",
     "text": [
      "['8' nan '8.3' '8.5' '6.6' '8.4' '8.6' '7.7' '6.3' '7.4' '8.2' '9' '7.9'\n",
      " '8.1' '8.7' '7.1' '3.4' '5.3' '4.8' '3.2' '8.9' '6.4' '7.8' '7.5' '2.6'\n",
      " '7.2' '9.2' '7' '7.3' '4.3' '7.6' '5.7' '5' '9.1' '6.5' '8.8' '6.9' '9.4'\n",
      " '6.8' '6.1' '6.7' '5.4' '4' '4.9' '4.5' '9.3' '6.2' '4.2' '6' '3.7' '4.1'\n",
      " '5.8' '5.6' '5.5' '4.4' '4.6' '5.9' '3.9' '3.1' '2.9' '5.2' '3.3' '4.7'\n",
      " '5.1' '3.5' '2.5' '1.9' '3' '2.7' '2.2' '2' '9.5' '2.1' '3.6' '2.8' '1.8'\n",
      " '3.8' '0' '1.6' '9.6' '2.4' '1.7' '1.1' '0.3' '1.5' '0.7' '1.2' '2.3'\n",
      " '0.5' '1.3' '0.2' '0.6' '1.4' '0.9' '1' '9.7']\n"
     ]
    },
    {
     "name": "stderr",
     "output_type": "stream",
     "text": [
      "/tmp/ipykernel_6345/1485019928.py:2: FutureWarning: A value is trying to be set on a copy of a DataFrame or Series through chained assignment using an inplace method.\n",
      "The behavior will change in pandas 3.0. This inplace method will never work because the intermediate object on which we are setting values always behaves as a copy.\n",
      "\n",
      "For example, when doing 'df[col].method(value, inplace=True)', try using 'df.method({col: value}, inplace=True)' or df[col] = df[col].method(value) instead, to perform the operation inplace on the original object.\n",
      "\n",
      "\n",
      "  df[\"user_score\"].replace(\"tbd\",np.nan,inplace=True)\n"
     ]
    }
   ],
   "source": [
    "\n",
    "#Rellenamos los valores ausentes en la columna user_score\n",
    "df[\"user_score\"].replace(\"tbd\",np.nan,inplace=True)\n",
    "\n",
    "#Visualizamos valores unicos en la columna user_score\n",
    "print(df[\"user_score\"].unique())"
   ]
  },
  {
   "cell_type": "code",
   "execution_count": 118,
   "metadata": {},
   "outputs": [],
   "source": [
    "#convertimos los valores de la columna \"user_score\" a flotantes\n",
    "df[\"user_score\"] = df[\"user_score\"].astype(\"float\")"
   ]
  },
  {
   "cell_type": "code",
   "execution_count": 119,
   "metadata": {},
   "outputs": [
    {
     "name": "stdout",
     "output_type": "stream",
     "text": [
      "['E' nan 'M' 'T' 'E10+' 'K-A' 'AO' 'EC' 'RP']\n"
     ]
    },
    {
     "name": "stderr",
     "output_type": "stream",
     "text": [
      "/tmp/ipykernel_6345/4232523195.py:5: FutureWarning: A value is trying to be set on a copy of a DataFrame or Series through chained assignment using an inplace method.\n",
      "The behavior will change in pandas 3.0. This inplace method will never work because the intermediate object on which we are setting values always behaves as a copy.\n",
      "\n",
      "For example, when doing 'df[col].method(value, inplace=True)', try using 'df.method({col: value}, inplace=True)' or df[col] = df[col].method(value) instead, to perform the operation inplace on the original object.\n",
      "\n",
      "\n",
      "  df[\"rating\"].fillna(\"rating_desconocido\",inplace=True)\n"
     ]
    }
   ],
   "source": [
    "#Visualizamos valores unicos en la columna rating\n",
    "print(df[\"rating\"].unique())\n",
    "\n",
    "#Reemplazamos valores ausentes NaN en la colimna rating\n",
    "df[\"rating\"].fillna(\"rating_desconocido\",inplace=True)"
   ]
  },
  {
   "cell_type": "markdown",
   "metadata": {},
   "source": [
    "Imprimimos la informacion general del df para confirmar los cambios correctos"
   ]
  },
  {
   "cell_type": "code",
   "execution_count": 120,
   "metadata": {},
   "outputs": [
    {
     "name": "stdout",
     "output_type": "stream",
     "text": [
      "<class 'pandas.core.frame.DataFrame'>\n",
      "RangeIndex: 16715 entries, 0 to 16714\n",
      "Data columns (total 11 columns):\n",
      " #   Column           Non-Null Count  Dtype  \n",
      "---  ------           --------------  -----  \n",
      " 0   name             16715 non-null  object \n",
      " 1   platform         16715 non-null  object \n",
      " 2   year_of_release  16715 non-null  int64  \n",
      " 3   genre            16715 non-null  object \n",
      " 4   na_sales         16715 non-null  float64\n",
      " 5   eu_sales         16715 non-null  float64\n",
      " 6   jp_sales         16715 non-null  float64\n",
      " 7   other_sales      16715 non-null  float64\n",
      " 8   critic_score     8137 non-null   float64\n",
      " 9   user_score       7590 non-null   float64\n",
      " 10  rating           16715 non-null  object \n",
      "dtypes: float64(6), int64(1), object(4)\n",
      "memory usage: 1.4+ MB\n",
      "\n",
      "name                  0\n",
      "platform              0\n",
      "year_of_release       0\n",
      "genre                 0\n",
      "na_sales              0\n",
      "eu_sales              0\n",
      "jp_sales              0\n",
      "other_sales           0\n",
      "critic_score       8578\n",
      "user_score         9125\n",
      "rating                0\n",
      "dtype: int64\n"
     ]
    }
   ],
   "source": [
    "df.info()\n",
    "datos_nulos = df.isna().sum()\n",
    "print()\n",
    "print(datos_nulos)"
   ]
  },
  {
   "cell_type": "markdown",
   "metadata": {},
   "source": [
    "## Análisis de datos"
   ]
  },
  {
   "cell_type": "markdown",
   "metadata": {},
   "source": [
    " ### Juegos lanzados por años"
   ]
  },
  {
   "cell_type": "code",
   "execution_count": 152,
   "metadata": {},
   "outputs": [
    {
     "name": "stdout",
     "output_type": "stream",
     "text": [
      "    año_lanzamiento  numero_juegos_por_año\n",
      "1              1980                      9\n",
      "2              1981                     46\n",
      "3              1982                     36\n",
      "4              1983                     17\n",
      "5              1984                     14\n",
      "6              1985                     14\n",
      "7              1986                     21\n",
      "8              1987                     16\n",
      "9              1988                     15\n",
      "10             1989                     17\n",
      "11             1990                     16\n",
      "12             1991                     41\n",
      "13             1992                     43\n",
      "14             1993                     62\n",
      "15             1994                    121\n",
      "16             1995                    219\n",
      "17             1996                    263\n",
      "18             1997                    289\n",
      "19             1998                    379\n",
      "20             1999                    338\n",
      "21             2000                    350\n",
      "22             2001                    482\n",
      "23             2002                    829\n",
      "24             2003                    775\n",
      "25             2004                    762\n",
      "26             2005                    939\n",
      "27             2006                   1006\n",
      "28             2007                   1197\n",
      "29             2008                   1427\n",
      "30             2009                   1426\n",
      "31             2010                   1255\n",
      "32             2011                   1136\n",
      "33             2012                    653\n",
      "34             2013                    544\n",
      "35             2014                    581\n",
      "36             2015                    606\n",
      "37             2016                    502\n"
     ]
    }
   ],
   "source": [
    "#agrupamos los juegos lanzados por año\n",
    "juegos_lanzados_por_año = df.groupby(\"year_of_release\")[\"name\"].count().reset_index()\n",
    "\n",
    "#Renombramos las columnas necesarias\n",
    "juegos_lanzados_por_año.rename(columns={'name': 'numero_juegos_por_año',\"year_of_release\":\"año_lanzamiento\"}, inplace=True)\n",
    "\n",
    "#Eliminamos los juegos que no tienen informacion de lanzamiento.\n",
    "juegos_lanzados_por_año.query(\"año_lanzamiento !=0\",inplace=True)\n",
    "\n",
    "print(juegos_lanzados_por_año)"
   ]
  },
  {
   "cell_type": "markdown",
   "metadata": {},
   "source": [
    "### Ventas por plataforma"
   ]
  },
  {
   "cell_type": "code",
   "execution_count": 146,
   "metadata": {},
   "outputs": [
    {
     "name": "stdout",
     "output_type": "stream",
     "text": [
      "  platform  total_sales\n",
      "0      PS2      1255.77\n",
      "1     X360       971.42\n",
      "2      PS3       939.65\n",
      "3      Wii       907.51\n",
      "4       DS       806.12\n"
     ]
    }
   ],
   "source": [
    "#Creamos una columna con las ventas totales\n",
    "df[\"total_sales\"] = df[[\"na_sales\",\"eu_sales\",\"jp_sales\" ,\"other_sales\"]].sum(axis=1)\n",
    "\n",
    "#agrupamos los juegos lanzados por plataforma y sumamos sus ventas\n",
    "ventas_por_plataforma = df.groupby(\"platform\")[\"total_sales\"].sum().reset_index()\n",
    "\n",
    "#Ordenamos de mayor a menor\n",
    "ventas_por_plataforma = ventas_por_plataforma.sort_values(by='total_sales', ascending=False).reset_index(drop=True)\n",
    "\n",
    "#imprimimos las primeras 5 filas top\n",
    "print(ventas_por_plataforma.head(5))"
   ]
  },
  {
   "cell_type": "markdown",
   "metadata": {},
   "source": [
    "Graficamos las 5 plataformas con mas ventas\n"
   ]
  },
  {
   "cell_type": "markdown",
   "metadata": {},
   "source": [
    "plataforma PS2"
   ]
  },
  {
   "cell_type": "code",
   "execution_count": 159,
   "metadata": {},
   "outputs": [
    {
     "name": "stdout",
     "output_type": "stream",
     "text": [
      "                       name platform  year_of_release         genre  na_sales  \\\n",
      "0                Wii Sports      Wii             2006        Sports     41.36   \n",
      "1         Super Mario Bros.      NES             1985      Platform     29.08   \n",
      "2            Mario Kart Wii      Wii             2008        Racing     15.68   \n",
      "3         Wii Sports Resort      Wii             2009        Sports     15.61   \n",
      "4  Pokemon Red/Pokemon Blue       GB             1996  Role-Playing     11.27   \n",
      "\n",
      "   eu_sales  jp_sales  other_sales  critic_score  user_score  \\\n",
      "0     28.96      3.77         8.45          76.0         8.0   \n",
      "1      3.58      6.81         0.77           NaN         NaN   \n",
      "2     12.76      3.79         3.29          82.0         8.3   \n",
      "3     10.93      3.28         2.95          80.0         8.0   \n",
      "4      8.89     10.22         1.00           NaN         NaN   \n",
      "\n",
      "               rating  total_sales  \n",
      "0                   E        82.54  \n",
      "1  rating_desconocido        40.24  \n",
      "2                   E        35.52  \n",
      "3                   E        32.77  \n",
      "4  rating_desconocido        31.38  \n"
     ]
    }
   ],
   "source": [
    "print(df.head())"
   ]
  },
  {
   "cell_type": "code",
   "execution_count": 158,
   "metadata": {},
   "outputs": [
    {
     "ename": "NameError",
     "evalue": "name 'plt' is not defined",
     "output_type": "error",
     "traceback": [
      "\u001b[0;31m---------------------------------------------------------------------------\u001b[0m",
      "\u001b[0;31mNameError\u001b[0m                                 Traceback (most recent call last)",
      "Cell \u001b[0;32mIn[158], line 1\u001b[0m\n\u001b[0;32m----> 1\u001b[0m plt\u001b[38;5;241m.\u001b[39mvilines(x\u001b[38;5;241m=\u001b[39mnumero_de_juegos_por_año,ymin\u001b[38;5;241m=\u001b[39m\u001b[38;5;241m0\u001b[39m,ymax\u001b[38;5;241m=\u001b[39mnumero_de_juegos_por_año\u001b[38;5;241m.\u001b[39mcantidad_de_videojuegos,alpha\u001b[38;5;241m=\u001b[39m\u001b[38;5;241m0.5\u001b[39m , linewidth\u001b[38;5;241m=\u001b[39m\u001b[38;5;241m10\u001b[39m, color\u001b[38;5;241m=\u001b[39m\u001b[38;5;124m\"\u001b[39m\u001b[38;5;124mgreen\u001b[39m\u001b[38;5;124m\"\u001b[39m)\n",
      "\u001b[0;31mNameError\u001b[0m: name 'plt' is not defined"
     ]
    }
   ],
   "source": [
    "plt.vilines(x=numero_de_juegos_por_año,ymin=0,ymax=numero_de_juegos_por_año.cantidad_de_videojuegos,alpha=0.5 , linewidth=10, color=\"green\")"
   ]
  }
 ],
 "metadata": {
  "kernelspec": {
   "display_name": "base",
   "language": "python",
   "name": "python3"
  },
  "language_info": {
   "codemirror_mode": {
    "name": "ipython",
    "version": 3
   },
   "file_extension": ".py",
   "mimetype": "text/x-python",
   "name": "python",
   "nbconvert_exporter": "python",
   "pygments_lexer": "ipython3",
   "version": "3.12.4"
  }
 },
 "nbformat": 4,
 "nbformat_minor": 2
}
